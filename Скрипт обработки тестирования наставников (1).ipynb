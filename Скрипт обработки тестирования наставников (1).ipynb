{
 "cells": [
  {
   "cell_type": "code",
   "execution_count": null,
   "id": "6dec3707",
   "metadata": {},
   "outputs": [],
   "source": [
    "import requests\n",
    "import pandas as pd\n",
    "import json\n",
    "from datetime import datetime, date, timedelta\n",
    "import numpy as np\n",
    "import os\n",
    "import urllib3\n",
    "urllib3.disable_warnings()\n",
    "\n",
    "from openpyxl.styles import PatternFill\n",
    "from openpyxl.utils.dataframe import dataframe_to_rows\n",
    "from openpyxl import Workbook"
   ]
  },
  {
   "cell_type": "code",
   "execution_count": null,
   "id": "8e186727",
   "metadata": {},
   "outputs": [],
   "source": [
    "token = \"PnWxSncrbEolYFc\"\n",
    "url = 'https://rosakhutor.foquz.ru/foquz/api/v1/poll/list'\n",
    "query = {'access-token': token, 'page': 1, 'perPage': 1000}\n",
    "all_data = []\n",
    "while True:\n",
    "            response = requests.get(url, params=query, verify=False)\n",
    "            if response.status_code == 200:\n",
    "                data = response.json()['polls']\n",
    "\n",
    "                if not data:\n",
    "                    break\n",
    "                all_data.extend(data)\n",
    "                query[\"page\"] += 1              \n",
    "all_polls = pd.json_normalize(all_data)"
   ]
  },
  {
   "cell_type": "code",
   "execution_count": null,
   "id": "b4b37083",
   "metadata": {},
   "outputs": [],
   "source": [
    "# Прописать название опроса из фокуза\n",
    "\n",
    "survey_name = 'Название опроса'\n",
    "survey_id = all_polls.loc[all_polls['name'] == survey_name, 'id'].reset_index()['id'][0]"
   ]
  },
  {
   "cell_type": "code",
   "execution_count": null,
   "id": "47ed5676",
   "metadata": {},
   "outputs": [],
   "source": [
    "url_2 = 'https://foquz.ru/foquz/api/v2/answers'\n",
    "polls = [survey_id]\n",
    "query = {'access-token': token, 'polls[]': polls, 'offset': 0, 'limit': 1}\n",
    "poll_answers = []\n",
    "while True:\n",
    "            response = requests.get(url_2, params=query, verify=False)\n",
    "            if response.status_code == 200:\n",
    "                data = response.json()['items']\n",
    "                if not data:\n",
    "                    break\n",
    "                poll_answers.extend(data)\n",
    "                query[\"offset\"] += 1              \n",
    "survey = pd.json_normalize(poll_answers)"
   ]
  },
  {
   "cell_type": "code",
   "execution_count": null,
   "id": "36db8284",
   "metadata": {},
   "outputs": [],
   "source": [
    "survey_new = survey.rename(columns = {'points.max': 'poll_max', 'points.value':'poll_fact'})\n",
    "survey_filt = survey_new.loc[survey_new['poll_max'] != 0]"
   ]
  },
  {
   "cell_type": "code",
   "execution_count": null,
   "id": "763a7703",
   "metadata": {},
   "outputs": [],
   "source": [
    "# Проверка на начатые, но незаконченные анкеты. Если None - значит открыли ссылку, но не заполнили даже первый вопрос.\n",
    "indexes = survey_new.loc[survey_new['poll_max'] == 0].index\n",
    "for i in indexes:\n",
    "    print(f\"{i} : {survey_new.loc[i].answers[0].get('answer', 'нет строки')}\")\n",
    "    \n",
    "# Если есть не None, то надо разбираться, почему не дошли до конца. Сразу подозрение на разведку вопросов"
   ]
  },
  {
   "cell_type": "code",
   "execution_count": null,
   "id": "fc257132",
   "metadata": {},
   "outputs": [],
   "source": [
    "survey_filt_2 = survey_filt[['id', 'answer_date', 'sent_date', 'status', 'answers', 'poll_fact', 'poll_max']]\n",
    "exploded_df = survey_filt_2.explode('answers', ignore_index=True)\n",
    "m_df = pd.concat([exploded_df.drop('answers', axis=1), pd.json_normalize(exploded_df['answers'])], axis=1)\n",
    "df_to_open = m_df.loc[m_df['answer'].isna() == False]"
   ]
  },
  {
   "cell_type": "code",
   "execution_count": null,
   "id": "409ac0a5",
   "metadata": {},
   "outputs": [],
   "source": [
    "def exploded_answers(df):\n",
    "    new_rows = []\n",
    "    for index, row in df.iterrows():\n",
    "        if row['type'] == 'Варианты на выбор':\n",
    "            new_row = row.to_dict()\n",
    "            new_row['answer'] = '; '.join(item['title'] for item in row['answer'])\n",
    "            new_rows.append(new_row)\n",
    "        else:\n",
    "            new_rows.append(row)\n",
    "    new_df = pd.DataFrame(new_rows)\n",
    "    return new_df\n",
    "\n",
    "df_open = exploded_answers(df_to_open)"
   ]
  },
  {
   "cell_type": "code",
   "execution_count": null,
   "id": "227c4d0c",
   "metadata": {},
   "outputs": [],
   "source": [
    "df_open = df_open.rename(columns={'Наставник': 'tutor'})\n",
    "df_open['student'] = ''\n",
    "df_open['unit'] = ''"
   ]
  },
  {
   "cell_type": "code",
   "execution_count": null,
   "id": "1402a763",
   "metadata": {},
   "outputs": [],
   "source": [
    "def update_column(frame, window_column, target_column, key_column, question_value, answer_column):\n",
    "    def update_value(x, values):\n",
    "        for value in values:\n",
    "            try:\n",
    "                return x.loc[frame[key_column].str.contains(value)].iloc[0]\n",
    "            except IndexError:\n",
    "                pass\n",
    "        return frame.loc[x.index[0], target_column]  \n",
    "    frame[target_column] = frame.\\\n",
    "                        groupby([window_column])[answer_column].\\\n",
    "                        transform(lambda x: update_value(x, question_value))\n",
    "    return frame"
   ]
  },
  {
   "cell_type": "code",
   "execution_count": null,
   "id": "dac74364",
   "metadata": {},
   "outputs": [],
   "source": [
    "df_to_analys = update_column(df_open, \"id\", \"tutor\", \"question_text\", ['Укажите ФИО наставника'], \"answer\")\n",
    "df_to_analys = update_column(df_to_analys, \"id\", \"student\", \"question_text\", ['Укажите свое ФИО'], \"answer\")\n",
    "df_to_analys = update_column(df_to_analys, \"id\", \"unit\", \"question_text\", ['Укажите Вашу службу'], \"answer\")"
   ]
  },
  {
   "cell_type": "code",
   "execution_count": null,
   "id": "0b88c373",
   "metadata": {},
   "outputs": [],
   "source": [
    "df_to_analys = df_to_analys.rename(columns = {'points.max': 'answer_max', 'points.value':'answer_fact', 'id':'poll_id'})"
   ]
  },
  {
   "cell_type": "code",
   "execution_count": null,
   "id": "f1ece1ca",
   "metadata": {},
   "outputs": [],
   "source": [
    "# Проверка на наличие более 1 заполненной анкеты у юзера\n",
    "\n",
    "df_to_analys.loc[df_to_analys['question_text'] == 'Укажите свое ФИО']\\\n",
    "    .groupby('answer')\\\n",
    "    .agg(count = ('poll_id', 'count'), unique_id = ('poll_id', pd.Series.unique))\\\n",
    "    .query(\"count > 0\")\\\n",
    "    .reset_index()\\\n",
    "    .rename(columns={'answer': 'ФИО', 'count':'количество', 'unique_id': 'id анкет'})"
   ]
  },
  {
   "cell_type": "code",
   "execution_count": null,
   "id": "8301f5ab",
   "metadata": {},
   "outputs": [],
   "source": [
    "# Исключение повторных ответов от 1 респондента после предварительного анализа\n",
    "df_to_analys = df_to_analys.loc[~df_to_analys['poll_id'].isin(['84a7d915584b007873b370bd3a0bfed6',\n",
    "                                                               '493c2324479d0ba13dc03e1d10ef7acb'])]\n",
    "\n",
    "# Исключение прочего брака (руководительские, тестовые, разведывательские)\n",
    "df_to_analys = df_to_analys.loc[~df_to_analys['poll_id'].isin(['0fb5406ceaaa46e822c04e29194cb15a',\n",
    "                                                               '101a0694a0d5a7cbbb3e2270a0232653',\n",
    "                                                               '8804896125a720baab10c1c01689a070'])]"
   ]
  },
  {
   "cell_type": "code",
   "execution_count": null,
   "id": "618a8089",
   "metadata": {},
   "outputs": [],
   "source": [
    "# Список id проверок, заполненных наставниками\n",
    "id_tutors_polls = ['559e42571752441fa8a3a738a53de85a',\n",
    "             '83fabd41943ffca651a50fb3f9b1d66f'\n",
    "            ]\n",
    "tutors_score = df_to_analys.loc[df_to_analys['poll_id'].isin(id_tutors_polls)]\n",
    "student_score = df_to_analys.loc[~df_to_analys['poll_id'].isin(id_tutors_polls)].sort_values(['unit', 'tutor', 'student'])"
   ]
  },
  {
   "cell_type": "code",
   "execution_count": null,
   "id": "34804e46",
   "metadata": {},
   "outputs": [],
   "source": [
    "# Фильтрация информационных вопросов\n",
    "student_ankets = student_score.loc[(student_score['question_text'] != 'Укажите Вашу службу')\n",
    "                                  &(student_score['question_text'] != 'Укажите ФИО наставника')\n",
    "                                  &(student_score['question_text'] != 'Укажите свое ФИО')]"
   ]
  },
  {
   "cell_type": "code",
   "execution_count": null,
   "id": "de3d0b6f",
   "metadata": {},
   "outputs": [],
   "source": [
    "# Создание df для общих результатов (1 лист в отчете)\n",
    "tutors = student_score.groupby('tutor', as_index = False).agg({'answer_fact': 'sum', 'answer_max': 'sum'})\n",
    "tutors['Результат теста'] = round(tutors['answer_fact']/tutors['answer_max']*100, 2)\n",
    "tutors = tutors.rename(columns = {'tutor': 'Наставник'})\n",
    "tutors['Коэф. 1'] = 0.4\n",
    "tutors['Результат аудиторских проверок (01.01.2025 - 31.03.2025)'] = [95.60, 93.73, 93.73, 90.90,\n",
    "                                                                      93.56, 82.42, 96.13, 87.45,\n",
    "                                                                      93.44, 87.45, 90.90]\n",
    "tutors['Коэф. 2'] = 0.6\n",
    "tutors['Формула расчета'] = 'результаты теста*0,4 (коэф. 1) + средний балл по аудиторским проверкам*0,6 (коэф. 2)'\n",
    "tutors['Рейтинг за 1 квартал'] = round(tutors['Результат теста']*tutors['Коэф. 1'] + tutors['Результат аудиторских проверок (01.01.2025 - 31.03.2025)']*tutors['Коэф. 2'], 2)\n",
    "tutors['Рейтинг за 4 квартал'] = [95.27, 91.64, 88.35, 80.14,\n",
    "                                  90.91, 71.86, 81.39, 89.87,\n",
    "                                  90.78, 90.31, 85.30]\n",
    "tutors['Прорыв'] = round(tutors['Рейтинг за 1 квартал']-tutors['Рейтинг за 4 квартал'], 2)"
   ]
  },
  {
   "cell_type": "code",
   "execution_count": null,
   "id": "8009cbe0",
   "metadata": {},
   "outputs": [],
   "source": [
    "static_data = tutors[['Наставник', 'Результат теста', 'Коэф. 1',\n",
    "       'Результат аудиторских проверок (01.01.2025 - 31.03.2025)', 'Коэф. 2',\n",
    "       'Формула расчета', 'Рейтинг за 1 квартал', 'Рейтинг за 4 квартал',\n",
    "       'Прорыв']].sort_values('Рейтинг за 1 квартал', ascending = False)\n",
    "\n",
    "# Добавление тех, у кого подопечные не ответили/нет ретро данных\n",
    "static_data.loc[len(static_data)] = ['Абрамченко Надежда Геннадьевна', '', 0.4,\n",
    "                      89.18, 0.6,\n",
    "                      'результаты теста*0,4 (коэф. 1) + средний балл по аудиторским проверкам*0,6 (коэф. 2)',\n",
    "                      '', 85.95,'']"
   ]
  },
  {
   "cell_type": "code",
   "execution_count": null,
   "id": "84271e38",
   "metadata": {},
   "outputs": [],
   "source": [
    "unique_units = student_score['unit'].unique()\n",
    "for unit_name in unique_units:\n",
    "    df = student_ankets.loc[(student_score['unit'] == unit_name)]\n",
    "    pivot_df = df.pivot_table(index=['poll_id', 'answer_date', 'unit', 'tutor', 'student', 'poll_fact'], \n",
    "                              columns='question_text', \n",
    "                              values='answer',\n",
    "                              aggfunc='first').reset_index()\n",
    "\n",
    "    points_dict = df.set_index(['poll_id', 'answer_date', 'unit',\n",
    "                                'tutor', 'student', 'poll_fact', 'question_text'])['answer_fact'].to_dict()\n",
    "\n",
    "    wb = Workbook()\n",
    "    ws_static = wb.active\n",
    "    ws_static.title = \"Итог\"\n",
    "    for row in dataframe_to_rows(static_data, index=False, header=True):\n",
    "        ws_static.append(row)\n",
    "\n",
    "    pivot_df = pivot_df.rename(columns={\n",
    "        'poll_id': 'ID анкеты',\n",
    "        'answer_date': 'Дата',\n",
    "        'unit': 'Служба',\n",
    "        'tutor': 'Наставник',\n",
    "        'student': 'Наставляемый',\n",
    "        'poll_fact': 'Баллов набрано'\n",
    "    }).sort_values(['Наставник', 'Баллов набрано'], ascending = [False, False])\n",
    "    ws_results = wb.create_sheet(\"Результаты тестирования\", 1)\n",
    "    for r in dataframe_to_rows(pivot_df, index=False, header=True):\n",
    "        ws_results.append(r)\n",
    "\n",
    "    green_fill = PatternFill(start_color='90EE90', end_color='90EE90', fill_type='solid')\n",
    "    red_fill = PatternFill(start_color='FF9999', end_color='FF9999', fill_type='solid')\n",
    "\n",
    "    for col_idx, col in enumerate(ws_results.iter_cols(min_row=2, max_row=ws_results.max_row, min_col=7, max_col=ws_results.max_column), start=7):\n",
    "        question = ws_results.cell(row=1, column=col_idx).value\n",
    "        for row_idx, cell in enumerate(col, start=2):\n",
    "            poll_fact   = ws_results.cell(row=row_idx, column=6).value\n",
    "            student     = ws_results.cell(row=row_idx, column=5).value\n",
    "            tutor       = ws_results.cell(row=row_idx, column=4).value\n",
    "            unit        = ws_results.cell(row=row_idx, column=3).value\n",
    "            answer_date = ws_results.cell(row=row_idx, column=2).value\n",
    "            poll_id     = ws_results.cell(row=row_idx, column=1).value\n",
    "\n",
    "            point = points_dict.get((poll_id, answer_date, unit, tutor, student, poll_fact, question), None)\n",
    "\n",
    "            if point == 1:\n",
    "                cell.fill = green_fill\n",
    "            elif point == 0:\n",
    "                cell.fill = red_fill\n",
    "\n",
    "    # Прописать путь к папке на рабочем столе для сохранения файлов\n",
    "    wb.save(f'C:/Users/papkov_ay/Desktop/Наставники_тесты/{unit_name}.xlsx')"
   ]
  }
 ],
 "metadata": {
  "kernelspec": {
   "display_name": "Python 3 (ipykernel)",
   "language": "python",
   "name": "python3"
  },
  "language_info": {
   "codemirror_mode": {
    "name": "ipython",
    "version": 3
   },
   "file_extension": ".py",
   "mimetype": "text/x-python",
   "name": "python",
   "nbconvert_exporter": "python",
   "pygments_lexer": "ipython3",
   "version": "3.10.9"
  }
 },
 "nbformat": 4,
 "nbformat_minor": 5
}
